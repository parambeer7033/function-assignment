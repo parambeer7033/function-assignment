{
  "cells": [
    {
      "cell_type": "markdown",
      "metadata": {
        "id": "EqLSl32ecyW-"
      },
      "source": [
        "# Functions"
      ]
    },
    {
      "cell_type": "markdown",
      "metadata": {
        "id": "jlBQvUNueRcD"
      },
      "source": [
        "**1. What is the difference between a function and a method in Python?**\n",
        "#  Function\n",
        "  - A function is a block of code that performs a specific task and can be called independently.\n",
        "   - Functions are defined using the def keyword, either globally or locally.\n",
        "They are not tied to any particular object.\n",
        "   - Functions can take arguments and return values\n",
        "#  example\n",
        "           def greet(name):\n",
        "\n",
        "               return f\"Hello, {name}!\"\n",
        "\n",
        "    print(greet(\"Musharraf\"))  # Output: Hello, Musharraf!\n",
        "\n",
        "#   Method\n",
        "   - A method is similar to a function, but it is associated with an object. It is essentially a function that belongs to a class.\n",
        "   - Methods are called on an object and have access to the object’s attributes and other methods through the self parameter (in instance methods).\n",
        "   - There are three types of methods in Python classes:\n",
        "   - Instance methods: Operate on instance-level data.\n",
        "  - Class methods: Operate on class-level data.\n",
        "  - Static methods: Do not operate on instance or class data.\n",
        "#  example\n",
        "            class Greeter:\n",
        "\n",
        "                def greet(self, name):\n",
        "\n",
        "                    return f\"Hello, {name}!\"\n",
        "\n",
        "            g = Greeter()\n",
        "\n",
        "           print(g.greet(\"Musharraf\"))  # Output: Hello, Musharraf!\n"
      ]
    },
    {
      "cell_type": "markdown",
      "metadata": {
        "id": "XAGQr8P4gaer"
      },
      "source": [
        "**2.Explain the concept of function arguments and parameters in Python.**\n",
        " #   parameter\n",
        "  - Parameters are the variables that are defined in the function header.\n",
        "They act as placeholders to receive the data passed into the function when it is called.\n",
        "        def greet(name):  # 'name' is a parameter\n",
        "            return f\"Hello, {name}!\"\n",
        "# Arguments           \n",
        "  - Arguments are the actual values or data passed to the function when it is called.\n",
        "They are assigned to the corresponding parameters.\n",
        "        \n",
        "        print(greet(\"param\"))  # \"param\" is the argument\n",
        "\n"
      ]
    },
    {
      "cell_type": "markdown",
      "metadata": {
        "id": "YS82-IFSh-NL"
      },
      "source": [
        "**3.What are the different ways to define and call a function in Python?**\n",
        "  - In Python, there are several ways to define and call a function, depending on the type of function and the context in which it is used. Below are the various ways with examples:\n",
        "  **1. Defining a Function*\n",
        "\n",
        "* **Basic Syntax:**\n",
        "            def function_name(parameter1, parameter2, ...):\n",
        "                result = parameter1 + parameter2\n",
        "                return result\n",
        "   ```\n",
        "\n",
        "   * `def`: Keyword to indicate the start of a function definition.\n",
        "   * `function_name`: The name you give to the function (e.g., `add_numbers`).\n",
        "   * `parameters`: Variables that receive input values when the function is called.\n",
        "   * `docstring`: An optional string within triple quotes that describes the function's purpose.\n",
        "   * `return`: (Optional) Sends a value back to the caller of the function.\n",
        "\n",
        "* **Example:**\n",
        "\n",
        "               def greet(name):\n",
        "                   print(\"Hello,\", name + \"!\")\n",
        "\n",
        "               greet(\"Musharraf\")  # Output: Hello, Musharraf\n",
        "   ```\n",
        "\n",
        "**Calling a Function**\n",
        "\n",
        "* **Simple Call:**\n",
        "\n",
        "   ```python\n",
        "   result = function_name(argument1, argument2, ...)\n",
        "   ```\n",
        "\n",
        "   * `function_name`: The name of the function you want to execute.\n",
        "   * `arguments`: Values passed to the function, which will be assigned to the corresponding parameters.\n",
        "\n",
        "* **Example:**\n",
        "             def add(x, y):\n",
        "                 return x + y\n",
        "\n",
        "             sum = add(5, 3)  # sum will be 8\n",
        "   ```\n",
        "\n",
        "**Default Parameter Values**\n",
        "\n",
        "* **Syntax:**\n",
        "\n",
        "   ```python\n",
        "   def function_name(parameter1, parameter2=default_value):\n",
        "       # Function body\n",
        "   ```\n",
        "\n",
        "   * Allows you to specify default values for parameters.\n",
        "   * If no value is provided for the parameter during the function call, the default value is used.\n",
        "\n",
        "* **Example:**\n",
        "\n",
        "            def greet(name, greeting=\"Hello\"):\n",
        "                print(greeting + \",\", name + \"!\")\n",
        "\n",
        "           greet(\"Musharraf \")        # Output: Hello, Musharraf\n",
        "           greet(\"Charlie\", \"Hi\")  # Output: Hi, Charlie!\n",
        "   ```\n",
        "\n",
        "**Variable-Length Arguments (Arbitrary Arguments)**\n",
        "\n",
        "*`*args`: Allows you to pass an arbitrary number of arguments as a tuple.\n",
        "\n",
        "                def sum_all(*args):\n",
        "                    total = 0\n",
        "                    for num in args:\n",
        "                        total += num\n",
        "                    return total\n",
        "\n",
        "                result = sum_all(1, 2, 3, 4)  # result will be 10\n",
        "\n",
        "* **`**kwargs`:Allows you to pass an arbitrary number of keyword arguments as a dictionary.\n",
        "\n",
        "   def print_info(**kwargs):\n",
        "       for key, value in kwargs.items():\n",
        "           print(f\"{key}: {value}\")\n",
        "\n",
        "   print_info(name=\"Alice\", age=30, city=\"New York\")\n",
        "   ```\n",
        "\n",
        "**Lambda Functions (Anonymous Functions)**\n",
        "\n",
        "* Short, single-line functions.\n",
        "* Defined using the `lambda` keyword.\n",
        "\n",
        "            square = lambda x: x * x\n",
        "            result = square(5)  # result will be 25\n"
      ]
    },
    {
      "cell_type": "markdown",
      "metadata": {
        "id": "w1D4BSnSjnkZ"
      },
      "source": [
        "**4.  What is the purpose of the `return` statement in a Python function?**\n",
        "  - The `return` statement in a Python function is used to:\n",
        "\n",
        "* **Sending a Value Back:**\n",
        "\n",
        "    - When a function is executed, it may perform calculations, process data, or generate results.\n",
        "    - The `return` statement allows the function to send a value back to the code that called it.\n",
        "    - This returned value can then be used for further calculations, displayed to the user, or stored for later use.\n",
        "\n",
        "* **Terminating Execution:**\n",
        "\n",
        "    - Once a `return` statement is encountered within a function, the function's execution immediately stops.\n",
        "    - Any code following the `return` statement within the function will not be executed.\n",
        "\n",
        "**Example:**\n",
        "\n",
        "          def add_numbers(x, y):\n",
        "\n",
        "              result = x + y\n",
        "              return result\n",
        "\n",
        "         sum = add_numbers(5, 3)  \n",
        "         print(sum)  # Output: 8"
      ]
    },
    {
      "cell_type": "markdown",
      "metadata": {
        "id": "cCwPqyK6n0TE"
      },
      "source": [
        "**5. What are iterators in Python and how do they differ from iterables?**\n",
        "\n",
        "**Iterables** are objects that can be looped over, such as lists, tuples, and strings. They possess the `__iter__()` method, which returns an iterator object. Essentially, an iterable is anything you can use within a `for` loop.\n",
        "\n",
        "**Iterators** are objects that represent a stream of data. They have the `__next__()` method, which returns the next element in the sequence. When there are no more elements, the `__next__()` method raises a `StopIteration` exception. Iterators are created from iterables using the `iter()` function.\n",
        "\n",
        "               my_list = [1, 2, 3]  # my_list is an iterable\n",
        "\n",
        "               my_iterator = iter(my_list)  # my_iterator is an iterator\n",
        "\n",
        "               for number in my_list:  # Using the iterable directly\n",
        "                   print(number)\n",
        "\n",
        "              for number in my_iterator:  # Using the iterator\n",
        "                   print(number)\n",
        "\n"
      ]
    },
    {
      "cell_type": "markdown",
      "metadata": {
        "id": "xEZ2p5Dyow45"
      },
      "source": [
        "**6. Explain the concept of generators in Python and how they are defined.**\n",
        "\n",
        "**Generators** are special functions in Python that generate a sequence of values on-the-fly. Instead of returning all the values at once, they use the `yield` keyword to return one value at a time, pausing the function's execution and resuming it later when the next value is requested. This makes them highly memory-efficient, especially when dealing with large datasets or infinite sequences.\n",
        "\n",
        "**Generator functions** are defined like regular functions but use the `yield` keyword instead of `return`.\n",
        "\n",
        "**Generator expressions** provide a concise way to create simple generators using a syntax similar to list comprehensions, but enclosed in parentheses.\n",
        "\n",
        "**Key characteristics of generators** include memory efficiency (as they only need to store the current state), laziness (values are generated only when needed), and conciseness (they often provide a more concise way to express iterative algorithms).\n",
        "\n",
        "Generators are a valuable tool in Python for creating efficient and memory-friendly iterators, particularly useful when dealing with large datasets, infinite sequences, or situations where you only need to process data one element at a time.\n",
        "\n",
        "           def fibonacci_generator():\n",
        "               a, b = 0, 1\n",
        "               while True:\n",
        "                   yield a\n",
        "                   a, b = b, a + b\n",
        "           fib_gen = fibonacci_generator()\n",
        "           for _ in range(10):\n",
        "           print(next(fib_gen))"
      ]
    },
    {
      "cell_type": "markdown",
      "metadata": {
        "id": "P5JSOxGzqsDt"
      },
      "source": [
        "**7.  What are the advantages of using generators over regular functions?**\n",
        "\n",
        "* **Memory Efficiency:** Generators produce values one at a time, requiring only the memory to store the current state of the function. This is crucial when dealing with large datasets, as it prevents memory overflow that could occur if all values were generated and stored in memory at once.\n",
        "\n",
        "* **Laziness:** Generators produce values only when requested. This \"lazy evaluation\" can significantly improve performance, especially when not all generated values are needed. For example, if you only need to process the first few elements of a very long sequence, a generator will avoid unnecessary computations.\n",
        "\n",
        "* **Conciseness:** Generators often provide a more concise and elegant way to express iterative algorithms compared to traditional approaches using loops and lists. Generator expressions, in particular, offer a compact syntax for creating simple generators.\n",
        "\n",
        "* **Infinite Sequences:** Generators can easily represent infinite sequences, such as the Fibonacci sequence, without the need to store an infinite number of values in memory.\n",
        "\n",
        "* **Flexibility:** Generators can be easily integrated with other Python constructs, such as list comprehensions and `for` loops, making them versatile tools for a wide range of applications.\n",
        "\n",
        "           def even_numbers(limit):\n",
        "               n = 0\n",
        "               while n <= limit:\n",
        "                   yield n\n",
        "                   n += 2\n",
        "          even_gen = even_numbers(10)\n",
        "          for number in even_gen:\n",
        "          print(number)\n"
      ]
    },
    {
      "cell_type": "markdown",
      "metadata": {
        "id": "K8KT10Ruj3lS"
      },
      "source": [
        "**8. What is a lambda function in Python and when is it typically used?**\n",
        "   - In Python, a lambda function is a concise way to define a small, anonymous function in a single line.\n",
        "\n",
        "   - It uses the `lambda` keyword, followed by the function's arguments, a colon, and then the single expression that the function evaluates and returns.\n",
        "\n",
        "   - Lambda functions are often used for short, one-time functions or as arguments to higher-order functions like `map()`, `filter()`, and `sorted()`.\n",
        "\n",
        "   - For example, `add = lambda x, y: x + y` defines a lambda function that adds two numbers.\n",
        "\n",
        "   - They enhance code readability in certain situations but are generally best suited for simple operations. For complex logic, regular functions defined with `def` are often more appropriate.\n",
        "\n",
        "         square = lambda x: x * x\n",
        "         result = square(5)\n",
        "         print(result)  # Output: 25\n"
      ]
    },
    {
      "cell_type": "markdown",
      "metadata": {
        "id": "omTR3gtIlH6U"
      },
      "source": [
        "**9. Explain the purpose and usage of the `map()` function in Python.**\n",
        "  - The map() function in Python is a powerful tool for applying a given function to each item in an iterable (like a list, tuple, or set) and returning an iterator of the results.\n",
        "  \n",
        "#  Purpose:\n",
        "  - Transform Data: The primary purpose of map() is to transform data by applying a specific function to each element of an iterable.\n",
        "  - Efficiency: It can often be more efficient than using a traditional for loop for applying a function to each element of an iterable, especially in terms of code readability.\n",
        "\n",
        "#  Usage:\n",
        "   - Syntax: map(function, iterable)\n",
        "\n",
        "   - function: The function to be applied to each element of the iterable.\n",
        "iterable: The iterable (e.g., list, tuple, set) whose elements will be passed to the function.\n",
        "#   example\n",
        "\n",
        "         numbers = [1, 2, 3, 4, 5]\n",
        "         def square(x):\n",
        "             return x * x\n",
        "         squared_numbers = map(square, numbers)\n",
        "         squared_numbers_list = list(squared_numbers)\n",
        "         print(squared_numbers_list)  # Output: [1, 4, 9, 16, 25]"
      ]
    },
    {
      "cell_type": "markdown",
      "metadata": {
        "id": "mxg2eBL0nNmf"
      },
      "source": [
        "**10. What is the difference between `map()`, `reduce()`, and `filter()` functions in Python?**\n",
        "\n",
        "* **`map()`** applies a given function to each element of an iterable and returns an iterator of the results. It transforms each element in the iterable.\n",
        "\n",
        "* **`filter()`** selects elements from an iterable based on a given condition, returning an iterator of only those elements that satisfy the condition. It filters out elements that don't meet the criteria.\n",
        "\n",
        "* **`reduce()`** applies a function cumulatively to the elements of an iterable, reducing them to a single value. It aggregates elements into a single result.\n",
        "\n",
        "These functions provide concise and efficient ways to manipulate data in Python, enabling functional-style programming techniques.\n",
        "               \n",
        "               from functools import reduce\n",
        "               numbers = [1, 2, 3, 4, 5]\n",
        "               squared_numbers = map(lambda x: x * x, numbers)\n",
        "               print(list(squared_numbers))  # Output: [1, 4, 9, 16, 25]\n",
        "               even_numbers = filter(lambda x: x % 2 == 0, numbers)\n",
        "               print(list(even_numbers))  # Output: [2, 4]\n",
        "               product = reduce(lambda x, y: x * y, numbers)\n",
        "               print(product)  # Output: 120\n"
      ]
    },
    {
      "cell_type": "markdown",
      "metadata": {
        "id": "XrG44_FNobaS"
      },
      "source": [
        "**11. Using pen & Paper write the internal mechanism for sum operation using  reduce function on this given**\n",
        "**list:[47,11,42,13];![internal_mechanism.jpg](data:image/jpeg;base64,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)**\n",
        "\n",
        "until the entire list is processed"
      ]
    },
    {
      "cell_type": "code",
      "execution_count": null,
      "metadata": {
        "colab": {
          "base_uri": "https://localhost:8080/"
        },
        "id": "6OgDDCHluPNd",
        "outputId": "1d81f2a7-d6c4-49ee-85d8-7daae07f224d"
      },
      "outputs": [
        {
          "name": "stdout",
          "output_type": "stream",
          "text": [
            "Sum of even numbers: 12\n"
          ]
        }
      ],
      "source": [
        "# 1 Write a Python function that takes a list of numbers as input and returns the sum of all even numbers in\n",
        "#the list.\n",
        "def sum_of_evens(numbers):\n",
        "    return sum(num for num in numbers if num % 2 == 0)\n",
        "example_list = [1, 2, 3, 4, 5, 6]\n",
        "result = sum_of_evens(example_list)\n",
        "print(\"Sum of even numbers:\", result)\n",
        "\n"
      ]
    },
    {
      "cell_type": "code",
      "execution_count": null,
      "metadata": {
        "colab": {
          "base_uri": "https://localhost:8080/"
        },
        "id": "HCgR-z50hMhJ",
        "outputId": "854825d5-4868-4671-89be-3d57951880a4"
      },
      "outputs": [
        {
          "name": "stdout",
          "output_type": "stream",
          "text": [
            "Reversed string: !dlroW ,olleH\n"
          ]
        }
      ],
      "source": [
        "# 2 Create a Python function that accepts a string and returns the reverse of that string.\n",
        "def reverse_string(input_string):\n",
        "    return input_string[::-1]\n",
        "example_string = \"Hello, World!\"\n",
        "reversed_string = reverse_string(example_string)\n",
        "print(\"Reversed string:\", reversed_string)"
      ]
    },
    {
      "cell_type": "code",
      "execution_count": null,
      "metadata": {
        "colab": {
          "base_uri": "https://localhost:8080/"
        },
        "id": "7eORufujhfmZ",
        "outputId": "c2b768f1-a325-4fd7-f814-ff061b7f6829"
      },
      "outputs": [
        {
          "name": "stdout",
          "output_type": "stream",
          "text": [
            "Squares of numbers: [1, 4, 9, 16, 25]\n"
          ]
        }
      ],
      "source": [
        "# 3  Implement a Python function that takes a list of integers and returns a new list containing the squares of\n",
        "#each number.\n",
        "def square_numbers(numbers):\n",
        "    return [num ** 2 for num in numbers]\n",
        "example_list = [1, 2, 3, 4, 5]\n",
        "result = square_numbers(example_list)\n",
        "print(\"Squares of numbers:\", result)"
      ]
    },
    {
      "cell_type": "code",
      "execution_count": null,
      "metadata": {
        "colab": {
          "base_uri": "https://localhost:8080/"
        },
        "id": "CNNpSFVIiMby",
        "outputId": "28c601b8-dcad-420e-edb6-7e0b3918e631"
      },
      "outputs": [
        {
          "name": "stdout",
          "output_type": "stream",
          "text": [
            "2 is a prime number.\n",
            "3 is a prime number.\n",
            "5 is a prime number.\n",
            "7 is a prime number.\n",
            "11 is a prime number.\n",
            "13 is a prime number.\n",
            "17 is a prime number.\n",
            "19 is a prime number.\n",
            "23 is a prime number.\n",
            "29 is a prime number.\n",
            "31 is a prime number.\n",
            "37 is a prime number.\n",
            "41 is a prime number.\n",
            "43 is a prime number.\n",
            "47 is a prime number.\n",
            "53 is a prime number.\n",
            "59 is a prime number.\n",
            "61 is a prime number.\n",
            "67 is a prime number.\n",
            "71 is a prime number.\n",
            "73 is a prime number.\n",
            "79 is a prime number.\n",
            "83 is a prime number.\n",
            "89 is a prime number.\n",
            "97 is a prime number.\n",
            "101 is a prime number.\n",
            "103 is a prime number.\n",
            "107 is a prime number.\n",
            "109 is a prime number.\n",
            "113 is a prime number.\n",
            "127 is a prime number.\n",
            "131 is a prime number.\n",
            "137 is a prime number.\n",
            "139 is a prime number.\n",
            "149 is a prime number.\n",
            "151 is a prime number.\n",
            "157 is a prime number.\n",
            "163 is a prime number.\n",
            "167 is a prime number.\n",
            "173 is a prime number.\n",
            "179 is a prime number.\n",
            "181 is a prime number.\n",
            "191 is a prime number.\n",
            "193 is a prime number.\n",
            "197 is a prime number.\n",
            "199 is a prime number.\n"
          ]
        }
      ],
      "source": [
        "# 4 Write a Python function that checks if a given number is prime or not from 1 to 200.\n",
        "def is_prime(number):\n",
        "    if number < 2:\n",
        "        return False\n",
        "    for i in range(2, int(number ** 0.5) + 1):\n",
        "        if number % i == 0:\n",
        "            return False\n",
        "    return True\n",
        "for num in range(1, 201):\n",
        "    if is_prime(num):\n",
        "        print(f\"{num} is a prime number.\")\n"
      ]
    },
    {
      "cell_type": "code",
      "execution_count": null,
      "metadata": {
        "colab": {
          "base_uri": "https://localhost:8080/"
        },
        "id": "7RN44eZ6izBL",
        "outputId": "6e88cee7-fc4c-4270-b855-337668581223"
      },
      "outputs": [
        {
          "name": "stdout",
          "output_type": "stream",
          "text": [
            "0\n",
            "1\n",
            "1\n",
            "2\n",
            "3\n",
            "5\n",
            "8\n",
            "13\n",
            "21\n",
            "34\n"
          ]
        }
      ],
      "source": [
        "# 5 Create an iterator class in Python that generates the Fibonacci sequence up to a specified number of\n",
        "#terms.\n",
        "class FibonacciIterator:\n",
        "    def __init__(self, n_terms):\n",
        "        self.n_terms = n_terms\n",
        "        self.current = 0\n",
        "        self.next = 1\n",
        "        self.count = 0\n",
        "\n",
        "    def __iter__(self):\n",
        "        return self\n",
        "\n",
        "    def __next__(self):\n",
        "        if self.count >= self.n_terms:\n",
        "            raise StopIteration\n",
        "        fib = self.current\n",
        "        self.current, self.next = self.next, self.current + self.next\n",
        "        self.count += 1\n",
        "        return fib\n",
        "n = 10\n",
        "fib_iterator = FibonacciIterator(n)\n",
        "for fib in fib_iterator:\n",
        "    print(fib)\n"
      ]
    },
    {
      "cell_type": "code",
      "execution_count": null,
      "metadata": {
        "colab": {
          "base_uri": "https://localhost:8080/"
        },
        "id": "n3hmNu0NkOnu",
        "outputId": "5e71c1ba-ceda-4cfd-f4d8-7bd696532673"
      },
      "outputs": [
        {
          "name": "stdout",
          "output_type": "stream",
          "text": [
            "1\n",
            "2\n",
            "4\n",
            "8\n",
            "16\n",
            "32\n",
            "64\n",
            "128\n",
            "256\n",
            "512\n",
            "1024\n"
          ]
        }
      ],
      "source": [
        "# 6 Write a generator function in Python that yields the powers of 2 up to a given exponent.\n",
        "def powers_of_two(max_exponent):\n",
        "    for exponent in range(max_exponent + 1):\n",
        "        yield 2 ** exponent\n",
        "for power in powers_of_two(10):\n",
        "    print(power)\n"
      ]
    },
    {
      "cell_type": "code",
      "execution_count": null,
      "metadata": {
        "id": "wPW8PmEvkvAI"
      },
      "outputs": [],
      "source": [
        "# 7  Implement a generator function that reads a file line by line and yields each line as a string.\n",
        "def read_file_lines(file_path):\n",
        "    with open(file_path, 'r') as file:\n",
        "        for line in file:\n",
        "            yield line\n",
        "file_path = 'example.txt'\n",
        "\n"
      ]
    },
    {
      "cell_type": "code",
      "execution_count": null,
      "metadata": {
        "colab": {
          "base_uri": "https://localhost:8080/"
        },
        "id": "efh1k939kuXQ",
        "outputId": "bbc9ee94-3aa5-46ac-ee3e-44d1f1413b9a"
      },
      "outputs": [
        {
          "name": "stdout",
          "output_type": "stream",
          "text": [
            "[(5, 0), (4, 1), (2, 2), (1, 3)]\n"
          ]
        }
      ],
      "source": [
        "# 8  Use a lambda function in Python to sort a list of tuples based on the second element of each tuple.\n",
        "tuples_list = [(1, 3), (4, 1), (2, 2), (5, 0)]\n",
        "\n",
        "sorted_list = sorted(tuples_list, key=lambda x: x[1])\n",
        "\n",
        "print(sorted_list)\n"
      ]
    },
    {
      "cell_type": "code",
      "execution_count": null,
      "metadata": {
        "colab": {
          "base_uri": "https://localhost:8080/"
        },
        "id": "EBbrxF0Jmkzq",
        "outputId": "96833ffe-a4c4-44fe-862b-eccda37a7d00"
      },
      "outputs": [
        {
          "name": "stdout",
          "output_type": "stream",
          "text": [
            "[32.0, 68.0, 86.0, 104.0, 212.0]\n"
          ]
        }
      ],
      "source": [
        "# 9 Write a Python program that uses `map()` to convert a list of temperatures from Celsius to Fahrenheit.\n",
        "celsius_to_fahrenheit = lambda c: (c * 9/5) + 32\n",
        "celsius_temps = [0, 20, 30, 40, 100]\n",
        "fahrenheit_temps = list(map(celsius_to_fahrenheit, celsius_temps))\n",
        "print(fahrenheit_temps)\n"
      ]
    },
    {
      "cell_type": "code",
      "execution_count": null,
      "metadata": {
        "colab": {
          "base_uri": "https://localhost:8080/"
        },
        "id": "WQ9xKe-Am88-",
        "outputId": "a10bbbee-8224-4375-de1d-3af17e449827"
      },
      "outputs": [
        {
          "name": "stdout",
          "output_type": "stream",
          "text": [
            "Hll, Wrld!\n"
          ]
        }
      ],
      "source": [
        "# 10 Create a Python program that uses `filter()` to remove all the vowels from a given string.\n",
        "\n",
        "is_not_vowel = lambda char: char.lower() not in 'aeiou'\n",
        "input_string = \"Hello, World!\"\n",
        "result = ''.join(filter(is_not_vowel, input_string))\n",
        "print(result)\n"
      ]
    },
    {
      "cell_type": "code",
      "execution_count": null,
      "metadata": {
        "colab": {
          "base_uri": "https://localhost:8080/"
        },
        "id": "b_tJrmN5nZ78",
        "outputId": "59920934-0e07-49c6-9e85-4f7f4fc47e16"
      },
      "outputs": [
        {
          "name": "stdout",
          "output_type": "stream",
          "text": [
            "[(34587, 163.8), (98762, 284.0), (77226, 108.85000000000001), (88112, 84.97)]\n"
          ]
        }
      ],
      "source": [
        "# 11\n",
        "def calculate_total_price(orders):\n",
        "\n",
        "    def calculate_price(order):\n",
        "        order_number = order[0]\n",
        "        quantity = order[2]\n",
        "        price_per_item = order[3]\n",
        "        total_price = quantity * price_per_item\n",
        "\n",
        "        if total_price < 100:\n",
        "            total_price += 10\n",
        "\n",
        "        return (order_number, total_price)\n",
        "\n",
        "    return list(map(calculate_price, orders))\n",
        "\n",
        "orders = [\n",
        "    [34587, \"Learning Python, Mark Lutz\", 4, 40.95],\n",
        "    [98762, \"Programming Python, Mark Lutz\", 5, 56.80],\n",
        "    [77226, \"Head First Python, Paul Barry\", 3, 32.95],\n",
        "    [88112, \"Einführung in Python3, Bernd Klein\", 3, 24.99]\n",
        "]\n",
        "\n",
        "total_prices = calculate_total_price(orders)\n",
        "print(total_prices)"
      ]
    },
    {
      "cell_type": "markdown",
      "metadata": {
        "id": "pmU-6CjLty3Q"
      },
      "source": []
    }
  ],
  "metadata": {
    "colab": {
      "provenance": []
    },
    "kernelspec": {
      "display_name": "Python 3",
      "name": "python3"
    },
    "language_info": {
      "name": "python"
    }
  },
  "nbformat": 4,
  "nbformat_minor": 0
}
