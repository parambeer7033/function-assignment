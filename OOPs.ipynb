{
  "cells": [
    {
      "cell_type": "code",
      "execution_count": null,
      "metadata": {
        "id": "XLIMKLfAnGES"
      },
      "outputs": [],
      "source": []
    },
    {
      "cell_type": "markdown",
      "metadata": {
        "id": "p26Q11OynMzn"
      },
      "source": [
        "# OPPs"
      ]
    },
    {
      "cell_type": "markdown",
      "metadata": {
        "id": "SVIT2G9_nQ0E"
      },
      "source": [
        "1. What is Object-Oriented Programming (OOP)?\n",
        "  - OOP is a programming paradigm based on the concept of \"objects,\" which can contain data in the form of fields (attributes) and code in the form of methods (functions). It allows for structuring programs into reusable and modular pieces, focusing on real-world entities."
      ]
    },
    {
      "cell_type": "markdown",
      "metadata": {
        "id": "WNqE8iSmn2Pi"
      },
      "source": [
        "2. What is a class in OOP?\n",
        "   - A class is a blueprint or template for creating objects. It defines the properties (attributes) and behaviors (methods) that the objects created from the class will have."
      ]
    },
    {
      "cell_type": "markdown",
      "metadata": {
        "id": "ICv7DYQjn_cK"
      },
      "source": [
        "3. What is an object in OOP?\n",
        "   - An object is an instance of a class. It is a concrete entity that contains the data (attributes) and methods (functions) defined by its class."
      ]
    },
    {
      "cell_type": "markdown",
      "metadata": {
        "id": "F02Lga5WoJA2"
      },
      "source": [
        "4. What is the difference between abstraction and encapsulation?\n",
        "   - Abstraction: Hides implementation details and shows only the necessary features of an object. Achieved using abstract classes and interfaces.\n",
        "  - Encapsulation: Bundles the data (attributes) and methods into a single unit (class) and restricts access to them using access modifiers like private, public, and protected."
      ]
    },
    {
      "cell_type": "markdown",
      "metadata": {
        "id": "s9wLIXzLoaKN"
      },
      "source": [
        "5. What are dunder methods in Python?\n",
        "   - Dunder (double underscore) methods, also known as magic methods, are special methods in Python that begin and end with double underscores. They allow you to define the behavior of objects in Python for built-in operations."
      ]
    },
    {
      "cell_type": "markdown",
      "metadata": {
        "id": "Scfyj_oqo1LO"
      },
      "source": [
        "6. Explain the concept of inheritance in OOP\n",
        "  - Inheritance is an OOP concept where a class (child class) can inherit attributes and methods from another class (parent class). It allows for code reuse and creating hierarchical relationships."
      ]
    },
    {
      "cell_type": "markdown",
      "metadata": {
        "id": "a_JQm7LEo82p"
      },
      "source": [
        "7. What is polymorphism in OOP?\n",
        "   - Polymorphism allows objects to be treated as instances of their parent class rather than their actual class. It lets you define methods in the parent class that can be overridden or extended in child classes."
      ]
    },
    {
      "cell_type": "markdown",
      "metadata": {
        "id": "1j2UdOG0pG0T"
      },
      "source": [
        "8. How is encapsulation achieved in Python?\n",
        "   - Encapsulation in Python is achieved using:\n",
        "    - Private attributes: By prefixing variables with double underscores\n",
        "       example: __private_var\n",
        "    - Getter and setter methods: Used to access and modify private attributes."
      ]
    },
    {
      "cell_type": "markdown",
      "metadata": {
        "id": "WORSzDZTpghB"
      },
      "source": [
        "9. What is a constructor in Python?\n",
        "   - A constructor is a special method (init) in Python that is automatically called when an object is created. It initializes the object's attribute."
      ]
    },
    {
      "cell_type": "markdown",
      "metadata": {
        "id": "nVnF7hGvpv3T"
      },
      "source": [
        "10. What are class and static methods in Python?\n",
        "   - Class methods: Declared using @classmethod, they take cls (class reference) as their first parameter and can modify the class state.\n",
        "   - Static methods: Declared using @staticmethod, they don’t take self or cls as a parameter and act as regular functions defined inside a class."
      ]
    },
    {
      "cell_type": "markdown",
      "metadata": {
        "id": "cmQoJkzPp9Bv"
      },
      "source": [
        "11. What is method overloading in Python?\n",
        "   - Python does not support method overloading directly. Instead, you can achieve similar functionality using default arguments or variable-length arguments (*args, **kwargs)."
      ]
    },
    {
      "cell_type": "markdown",
      "metadata": {
        "id": "xZjnF64IqFo1"
      },
      "source": [
        "12. What is method overriding in OOP?\n",
        "  - Method overriding occurs when a child class defines a method with the same name as a method in its parent class, allowing the child class to provide a specific implementation."
      ]
    },
    {
      "cell_type": "markdown",
      "metadata": {
        "id": "yeuJP710qP1R"
      },
      "source": [
        "13. What is a property decorator in Python?\n",
        "   - The @property decorator in Python is used to create getter, setter, and deleter methods, enabling access to private attributes in a controlled way, similar to properties in other languages."
      ]
    },
    {
      "cell_type": "markdown",
      "metadata": {
        "id": "SV7UkDGDqYrN"
      },
      "source": [
        "14. Why is polymorphism important in OOP?\n",
        "   - Polymorphism promotes flexibility and reusability by allowing objects of different classes to be treated uniformly based on their shared behavior (e.g., calling a method on objects of different classes)."
      ]
    },
    {
      "cell_type": "markdown",
      "metadata": {
        "id": "Wje3G4aHqlSH"
      },
      "source": [
        "15. What is an abstract class in Python?\n",
        "   - An abstract class in Python, defined using the ABC module, is a class that cannot be instantiated directly and may contain abstract methods (methods without an implementation)."
      ]
    },
    {
      "cell_type": "markdown",
      "metadata": {
        "id": "7nUS5Yvaqt7f"
      },
      "source": [
        "16. What are the advantages of OOP?\n",
        "   - Modular and reusable code\n",
        "   - Easier maintenance and modification\n",
        "   - Real-world problem modeling\n",
        "   - Improved collaboration through encapsulation and abstraction"
      ]
    },
    {
      "cell_type": "markdown",
      "metadata": {
        "id": "nATj2khmrEy7"
      },
      "source": [
        "17. What is the difference between a class variable and an instance variable?\n",
        "   - Class variable: Shared across all instances of a class. Defined within the class but outside any methods.\n",
        "   -Instance variable: Unique to each instance. Defined within methods, typically init."
      ]
    },
    {
      "cell_type": "markdown",
      "metadata": {
        "id": "1VM9dpoCrU2v"
      },
      "source": [
        "18. What is multiple inheritance in Python?\n",
        "   - Multiple inheritance allows a class to inherit from more than one parent class. Python supports this directly but can lead to complexities like the \"Diamond Problem.\""
      ]
    },
    {
      "cell_type": "markdown",
      "metadata": {
        "id": "Qxu02zeLrfM4"
      },
      "source": [
        "19. Explain the purpose of str and repr methods in Python.\n",
        "   - str: Returns a human-readable string representation of an object, primarily for end-users.\n",
        "   - repr: Returns an unambiguous string representation, often used for debugging and developers."
      ]
    },
    {
      "cell_type": "markdown",
      "metadata": {
        "id": "TFvBzA8Urp1b"
      },
      "source": [
        "20. What is the significance of the super() function in Python?\n",
        "   - The super() function allows you to call methods from a parent class in a child class, commonly used for invoking the parent class constructor (init).\n",
        "   "
      ]
    },
    {
      "cell_type": "markdown",
      "metadata": {
        "id": "Ut2xLa5Try0K"
      },
      "source": [
        "21. What is the significance of the del method in Python?\n",
        "   - The del method is called when an object is about to be destroyed. It is used for cleanup tasks like closing files or releasing resources."
      ]
    },
    {
      "cell_type": "markdown",
      "metadata": {
        "id": "Ny6Z-wlAr522"
      },
      "source": [
        "22. What is the difference between @staticmethod and @classmethod in Python?\n",
        "   - @staticmethod: Does not take any reference to the class (cls) or object (self). It behaves like a regular function.\n",
        "   - @classmethod: Takes a reference to the class (cls) as its first parameter and can modify the class state."
      ]
    },
    {
      "cell_type": "markdown",
      "metadata": {
        "id": "KlPas6ylsFhZ"
      },
      "source": [
        "23. How does polymorphism work in Python with inheritance?\n",
        "   - Polymorphism in Python works by allowing methods in parent classes to be overridden in child classes. This enables the child class to define its specific behavior while maintaining a consistent interface."
      ]
    },
    {
      "cell_type": "markdown",
      "metadata": {
        "id": "Dc0F45GvsOmF"
      },
      "source": [
        "24. What is method chaining in Python OOP?\n",
        "   - Method chaining is a technique where multiple methods are called on the same object in a single statement. Each method returns the object itself, allowing chaining."
      ]
    },
    {
      "cell_type": "markdown",
      "metadata": {
        "id": "3n8YXWA5sWWd"
      },
      "source": [
        "25. What is the purpose of the call method in Python?\n",
        "   - The call method allows an object to be called as if it were a function. Defining call in a class enables instances of that class to be callable."
      ]
    },
    {
      "cell_type": "code",
      "execution_count": 5,
      "metadata": {
        "colab": {
          "base_uri": "https://localhost:8080/"
        },
        "id": "Tj1jjCNosuML",
        "outputId": "988d46bb-9c26-4abd-e302-befd6e112d48"
      },
      "outputs": [
        {
          "name": "stdout",
          "output_type": "stream",
          "text": [
            "This animal makes a sound.\n",
            "bark!\n"
          ]
        }
      ],
      "source": [
        "# 1.  Create a parent class Animal with a method speak() that prints a generic message. Create a child class Dog\n",
        "#that overrides the speak() method to print \"Bark!\".\n",
        "class Animal:\n",
        "    def speak(self):\n",
        "        print(\"This animal makes a sound.\")\n",
        "\n",
        "\n",
        "class Dog(Animal):\n",
        "    def speak(self):\n",
        "        print(\"bark!\")\n",
        "generic_animal = Animal()\n",
        "generic_animal.speak()\n",
        "\n",
        "dog = Dog()\n",
        "dog.speak()"
      ]
    },
    {
      "cell_type": "code",
      "execution_count": 15,
      "metadata": {
        "colab": {
          "base_uri": "https://localhost:8080/"
        },
        "id": "5rldp-LRucya",
        "outputId": "7dad0299-d3b1-4668-b800-a6f5c6aba4cf"
      },
      "outputs": [
        {
          "name": "stdout",
          "output_type": "stream",
          "text": [
            "15\n",
            "78.5\n"
          ]
        }
      ],
      "source": [
        "# 2.  Write a program to create an abstract class Shape with a method area().\n",
        " #Derive classes Circle and Rectangle from it and implement the area() method in both.\n",
        "class Shape:\n",
        "    def area(self):\n",
        "        pass\n",
        "\n",
        "\n",
        "class Circle(Shape):\n",
        "    def area(self, radius):\n",
        "        return 3.14 * radius * radius\n",
        "\n",
        "\n",
        "class Rectangle(Shape):\n",
        "    def area(self, length, width):\n",
        "        return length * width\n",
        "rectangle=Rectangle()\n",
        "print(rectangle.area(5,3))\n",
        "circle=Circle()\n",
        "print(circle.area(5))"
      ]
    },
    {
      "cell_type": "code",
      "execution_count": 16,
      "metadata": {
        "colab": {
          "base_uri": "https://localhost:8080/"
        },
        "id": "WQRefKi3wEqV",
        "outputId": "2d58df6b-2395-48ef-d5d4-29793abd741a"
      },
      "outputs": [
        {
          "name": "stdout",
          "output_type": "stream",
          "text": [
            "Vehicle Type: Electric Vehicle, Brand: Tesla, Battery: 75 kWh\n"
          ]
        }
      ],
      "source": [
        "# 3.  Implement a multi-level inheritance scenario where a class Vehicle has an attribute type. Derive a class Car\n",
        "# and further derive a class ElectricCar that adds a battery attribute\n",
        "class Vehicle:\n",
        "    def __init__(self, vehicle_type):\n",
        "        self.type = vehicle_type\n",
        "\n",
        "class Car(Vehicle):\n",
        "    def __init__(self, vehicle_type, brand):\n",
        "        super().__init__(vehicle_type)\n",
        "        self.brand = brand\n",
        "\n",
        "class ElectricCar(Car):\n",
        "    def __init__(self, vehicle_type, brand, battery_capacity):\n",
        "        super().__init__(vehicle_type, brand)\n",
        "        self.battery_capacity = battery_capacity\n",
        "\n",
        "    def display(self):\n",
        "        print(f\"Vehicle Type: {self.type}, Brand: {self.brand}, Battery: {self.battery_capacity} kWh\")\n",
        "\n",
        "tesla = ElectricCar(\"Electric Vehicle\", \"Tesla\", 75)\n",
        "tesla.display()"
      ]
    },
    {
      "cell_type": "code",
      "execution_count": 17,
      "metadata": {
        "colab": {
          "base_uri": "https://localhost:8080/"
        },
        "id": "tl41857Nw6GI",
        "outputId": "bd04bc07-8973-4cca-f13c-811e1e28ee4a"
      },
      "outputs": [
        {
          "name": "stdout",
          "output_type": "stream",
          "text": [
            "Type: Electric Vehicle, Brand: Tesla, Battery: 75 kWh\n"
          ]
        }
      ],
      "source": [
        "#4.  Implement a multi-level inheritance scenario where a class Vehicle has an attribute type. Derive a class Car\n",
        "#and further derive a class ElectricCar that adds a battery attribute.\n",
        "class Vehicle:\n",
        "    def __init__(self, vehicle_type):\n",
        "        self.type = vehicle_type\n",
        "\n",
        "class Car(Vehicle):\n",
        "    def __init__(self, vehicle_type, brand):\n",
        "        super().__init__(vehicle_type)\n",
        "        self.brand = brand\n",
        "\n",
        "class ElectricCar(Car):\n",
        "    def __init__(self, vehicle_type, brand, battery_capacity):\n",
        "        super().__init__(vehicle_type, brand)\n",
        "        self.battery_capacity = battery_capacity\n",
        "\n",
        "    def display(self):\n",
        "        print(f\"Type: {self.type}, Brand: {self.brand}, Battery: {self.battery_capacity} kWh\")\n",
        "\n",
        "tesla = ElectricCar(\"Electric Vehicle\", \"Tesla\", 75)\n",
        "tesla.display()"
      ]
    },
    {
      "cell_type": "code",
      "execution_count": 18,
      "metadata": {
        "colab": {
          "base_uri": "https://localhost:8080/"
        },
        "id": "v3GUa7ryxlYl",
        "outputId": "2c351a4c-c04b-4040-82a9-d67d1125939b"
      },
      "outputs": [
        {
          "name": "stdout",
          "output_type": "stream",
          "text": [
            "Balance: 1300\n"
          ]
        }
      ],
      "source": [
        "# 5.  Write a program to demonstrate encapsulation by creating a class BankAccount with private attributes\n",
        "#balance and methods to deposit, withdraw, and check balance.\n",
        "class BankAccount:\n",
        "  def __init__(self, initial_balance):\n",
        "        self.__balance = initial_balance\n",
        "  def deposit(self, amount):\n",
        "        if amount > 0:\n",
        "            self.__balance += amount\n",
        "\n",
        "  def withdraw(self, amount):\n",
        "        if 0 < amount <= self.__balance:\n",
        "            self.__balance -= amount\n",
        "\n",
        "  def check_balance(self):\n",
        "        return self.__balance\n",
        "\n",
        "account = BankAccount(1000)\n",
        "account.deposit(500)\n",
        "account.withdraw(200)\n",
        "print(\"Balance:\", account.check_balance())"
      ]
    },
    {
      "cell_type": "code",
      "execution_count": 19,
      "metadata": {
        "colab": {
          "base_uri": "https://localhost:8080/"
        },
        "id": "wr8JG2SbyVlS",
        "outputId": "9daf06a1-7225-4c14-94fa-bd8e63a4a403"
      },
      "outputs": [
        {
          "name": "stdout",
          "output_type": "stream",
          "text": [
            "Playing the guitar.\n",
            "Playing the piano.\n"
          ]
        }
      ],
      "source": [
        "# 6.  Demonstrate runtime polymorphism using a method play() in a base class Instrument. Derive classes Guitar\n",
        "#and Piano that implement their own version of play().\n",
        "class Instrument:\n",
        "    def play(self):\n",
        "        pass\n",
        "\n",
        "class Guitar(Instrument):\n",
        "    def play(self):\n",
        "        print(\"Playing the guitar.\")\n",
        "\n",
        "class Piano(Instrument):\n",
        "    def play(self):\n",
        "        print(\"Playing the piano.\")\n",
        "\n",
        "def perform(instrument):\n",
        "    instrument.play()\n",
        "\n",
        "guitar = Guitar()\n",
        "piano = Piano()\n",
        "perform(guitar)\n",
        "perform(piano)"
      ]
    },
    {
      "cell_type": "code",
      "execution_count": 20,
      "metadata": {
        "colab": {
          "base_uri": "https://localhost:8080/"
        },
        "id": "JArAuRCoyrTX",
        "outputId": "437fdec0-8ce3-496c-822d-894dd793918b"
      },
      "outputs": [
        {
          "name": "stdout",
          "output_type": "stream",
          "text": [
            "15\n",
            "5\n"
          ]
        }
      ],
      "source": [
        "# 7.  Create a class MathOperations with a class method add_numbers() to add two numbers and a static\n",
        "#method subtract_numbers() to subtract two numbers.\n",
        "class MathOperations:\n",
        "    @classmethod\n",
        "    def add_numbers(cls, a, b):\n",
        "        return a + b\n",
        "\n",
        "    @staticmethod\n",
        "    def subtract_numbers(a, b):\n",
        "        return a - b\n",
        "\n",
        "print(MathOperations.add_numbers(10, 5))\n",
        "print(MathOperations.subtract_numbers(10, 5))"
      ]
    },
    {
      "cell_type": "code",
      "execution_count": 21,
      "metadata": {
        "colab": {
          "base_uri": "https://localhost:8080/"
        },
        "id": "oUyCheZmy8ce",
        "outputId": "c2a074a9-8ce0-4f2d-b472-a7857382f333"
      },
      "outputs": [
        {
          "name": "stdout",
          "output_type": "stream",
          "text": [
            "3\n"
          ]
        }
      ],
      "source": [
        "# 8.  Implement a class Person with a class method to count the total number of persons created.\n",
        "\n",
        "\n",
        "class Person:\n",
        "    count = 0\n",
        "\n",
        "    def __init__(self):\n",
        "        Person.count += 1\n",
        "\n",
        "    @classmethod\n",
        "    def total_persons(cls):\n",
        "        return cls.count\n",
        "\n",
        "p1 = Person()\n",
        "p2 = Person()\n",
        "p3 = Person()\n",
        "print(Person.total_persons())"
      ]
    },
    {
      "cell_type": "code",
      "execution_count": 25,
      "metadata": {
        "colab": {
          "base_uri": "https://localhost:8080/"
        },
        "id": "syb9X-FdzKap",
        "outputId": "c98cefbf-87ae-4a8a-d632-4d66940a2bde"
      },
      "outputs": [
        {
          "name": "stdout",
          "output_type": "stream",
          "text": [
            "5/8\n"
          ]
        }
      ],
      "source": [
        "# 9. Write a class Fraction with attributes numerator and denominator. Override the str method to display the\n",
        "class Fraction:\n",
        "    def __init__(self, numerator, denominator):\n",
        "        self.numerator = numerator\n",
        "        self.denominator = denominator\n",
        "\n",
        "    def __str__(self):\n",
        "        return f\"{self.numerator}/{self.denominator}\"\n",
        "\n",
        "fraction = Fraction(5, 8)\n",
        "print(fraction)"
      ]
    },
    {
      "cell_type": "code",
      "execution_count": 26,
      "metadata": {
        "colab": {
          "base_uri": "https://localhost:8080/"
        },
        "id": "MVmQwCKZzz8S",
        "outputId": "65984a42-6f62-40df-892b-b2d455834e7d"
      },
      "outputs": [
        {
          "name": "stdout",
          "output_type": "stream",
          "text": [
            "(6, 8)\n"
          ]
        }
      ],
      "source": [
        "#10.  Demonstrate operator overloading by creating a class Vector and overriding the add method to add two\n",
        "#vectors.\n",
        "class Vector:\n",
        "    def __init__(self, x, y):\n",
        "        self.x = x\n",
        "        self.y = y\n",
        "\n",
        "    def __add__(self, other):\n",
        "        return Vector(self.x + other.x, self.y + other.y)\n",
        "\n",
        "    def __str__(self):\n",
        "        return f\"({self.x}, {self.y})\"\n",
        "\n",
        "v1 = Vector(2, 3)\n",
        "v2 = Vector(4, 5)\n",
        "result = v1 + v2\n",
        "print(result)"
      ]
    },
    {
      "cell_type": "code",
      "execution_count": 27,
      "metadata": {
        "colab": {
          "base_uri": "https://localhost:8080/"
        },
        "id": "ipdYaLyE0FcI",
        "outputId": "c8917346-d781-43e6-9062-6a86459e30a5"
      },
      "outputs": [
        {
          "name": "stdout",
          "output_type": "stream",
          "text": [
            "Hello, my name is Musharraf Reza and I am 24 years old.\n"
          ]
        }
      ],
      "source": [
        "# 11.  Create a class Person with attributes name and age. Add a method greet() that prints \"Hello, my name is\n",
        "#{name} and I am {age} years old.\"\n",
        "class Person:\n",
        "    def __init__(self, name, age):\n",
        "        self.name = name\n",
        "        self.age = age\n",
        "\n",
        "    def greet(self):\n",
        "        print(f\"Hello, my name is {self.name} and I am {self.age} years old.\")\n",
        "\n",
        "person = Person(\"Musharraf Reza\", 24)\n",
        "person.greet()"
      ]
    },
    {
      "cell_type": "code",
      "execution_count": 44,
      "metadata": {
        "colab": {
          "base_uri": "https://localhost:8080/"
        },
        "id": "MQkl7vnw0aKX",
        "outputId": "6382dbec-2477-4704-eeb6-e616af412db2"
      },
      "outputs": [
        {
          "name": "stdout",
          "output_type": "stream",
          "text": [
            "87.0\n"
          ]
        }
      ],
      "source": [
        "# 12. . Implement a class Student with attributes name and grades. Create a method average_grade() to compute\n",
        "#the average of the grades.\n",
        "class Student:\n",
        "    def __init__(self, name, grades):\n",
        "        self.name = name\n",
        "        self.grades = grades\n",
        "\n",
        "    def average_grade(self):\n",
        "        return sum(self.grades) / len(self.grades)\n",
        "\n",
        "student = Student(\"musharraf\", [81, 97, 78, 92])\n",
        "print(student.average_grade())"
      ]
    },
    {
      "cell_type": "code",
      "execution_count": 30,
      "metadata": {
        "colab": {
          "base_uri": "https://localhost:8080/"
        },
        "id": "YvVf0XJX0rW9",
        "outputId": "2143e46a-20e2-4597-a3b5-bd831f34b60d"
      },
      "outputs": [
        {
          "name": "stdout",
          "output_type": "stream",
          "text": [
            "15\n"
          ]
        }
      ],
      "source": [
        "# 13. Create a class Rectangle with methods set_dimensions() to set the dimensions and area() to calculate the area.\n",
        "class Rectangle:\n",
        "    def __init__(self):\n",
        "        self.length = 0\n",
        "        self.width = 0\n",
        "\n",
        "    def set_dimensions(self, length, width):\n",
        "        self.length = length\n",
        "        self.width = width\n",
        "\n",
        "    def area(self):\n",
        "        return self.length * self.width\n",
        "\n",
        "rectangle = Rectangle()\n",
        "rectangle.set_dimensions(5, 3)\n",
        "print(rectangle.area())"
      ]
    },
    {
      "cell_type": "code",
      "execution_count": 34,
      "metadata": {
        "id": "BpLRa5sh07D4"
      },
      "outputs": [],
      "source": [
        "# 14.  Create a class Employee with a method calculate_salary() that computes the salary based on hours worked\n",
        "#and hourly rate. Create a derived class Manager that adds a bonus to the salary.\n",
        "class Employee:\n",
        "    def __init__(self, hours_worked, hourly_rate):\n",
        "        self.hours_worked = hours_worked\n",
        "        self.hourly_rate = hourly_rate\n",
        "\n",
        "    def calculate_salary(self):\n",
        "        return self.hours_worked * self.hourly_rate\n",
        "\n",
        "class Manager(Employee):\n",
        "    def __init__(self, hours_worked, hourly_rate, bonus):\n",
        "        super().__init__(hours_worked, hourly_rate)\n",
        "        self.bonus = bonus\n",
        "\n",
        "    def calculate_salary(self):\n",
        "        return super().calculate_salary() + self.bonus"
      ]
    },
    {
      "cell_type": "code",
      "execution_count": 35,
      "metadata": {
        "colab": {
          "base_uri": "https://localhost:8080/"
        },
        "id": "RXnv0czF2VLu",
        "outputId": "74e1136a-d107-4c60-89c4-740c3729854a"
      },
      "outputs": [
        {
          "name": "stdout",
          "output_type": "stream",
          "text": [
            "3000\n"
          ]
        }
      ],
      "source": [
        "# 15. Create a class Product with attributes name, price, and quantity. Implement a method total_price() that\n",
        "#calculates the total price of the product.\n",
        "class Product:\n",
        "    def __init__(self, name, price, quantity):\n",
        "        self.name = name\n",
        "        self.price = price\n",
        "        self.quantity = quantity\n",
        "\n",
        "    def total_price(self):\n",
        "        return self.price * self.quantity\n",
        "\n",
        "product = Product(\"Laptop\", 1000, 3)\n",
        "print(product.total_price())\n",
        "\n",
        "\n"
      ]
    },
    {
      "cell_type": "code",
      "execution_count": 39,
      "metadata": {
        "colab": {
          "base_uri": "https://localhost:8080/"
        },
        "id": "kjdmEGGO21e0",
        "outputId": "5326100b-7a1c-4e7f-f8e7-8d8dc98ba813"
      },
      "outputs": [
        {
          "name": "stdout",
          "output_type": "stream",
          "text": [
            "Moo\n",
            "Baa\n",
            "Baa\n"
          ]
        }
      ],
      "source": [
        "# 16  Create a class Animal with an abstract method sound(). Create two derived classes Cow and Sheep that\n",
        "#implement the sound() method.\n",
        "\n",
        "from abc import ABC, abstractmethod\n",
        "\n",
        "class Animal(ABC):\n",
        "    @abstractmethod\n",
        "    def sound(self):\n",
        "        pass\n",
        "\n",
        "class Cow(Animal):\n",
        "    def sound(self):\n",
        "        print(\"Moo\")\n",
        "\n",
        "class Sheep(Animal):\n",
        "    def sound(self):\n",
        "        print(\"Baa\")\n",
        "\n",
        "cow = Cow()\n",
        "cow.sound()\n",
        "\n",
        "sheep = Sheep()\n",
        "sheep.sound()\n",
        "sheep.sound()"
      ]
    },
    {
      "cell_type": "code",
      "execution_count": 41,
      "metadata": {
        "colab": {
          "base_uri": "https://localhost:8080/"
        },
        "id": "V3OVvWLf3kJb",
        "outputId": "68843ad3-ab8b-4a0f-e114-c0a028c904f5"
      },
      "outputs": [
        {
          "name": "stdout",
          "output_type": "stream",
          "text": [
            "Title: My life, Author: Musharraf Reza, Year: 2025\n"
          ]
        }
      ],
      "source": [
        "# 17  Create a class Book with attributes title, author, and year_published. Add a method get_book_info() that\n",
        "#returns a formatted string with the book's details.\n",
        "class Book:\n",
        "    def __init__(self, title, author, year_published):\n",
        "        self.title = title\n",
        "        self.author = author\n",
        "        self.year_published = year_published\n",
        "\n",
        "    def get_book_info(self):\n",
        "        return f\"Title: {self.title}, Author: {self.author}, Year: {self.year_published}\"\n",
        "\n",
        "book = Book(\"My life\", \"Musharraf Reza\", 2025)\n",
        "print(book.get_book_info())\n",
        "\n",
        "\n"
      ]
    },
    {
      "cell_type": "code",
      "execution_count": 43,
      "metadata": {
        "colab": {
          "base_uri": "https://localhost:8080/"
        },
        "id": "5014mNkD4Uo7",
        "outputId": "b7beabbc-9c89-4c09-a501-2d9b4caa9e1b"
      },
      "outputs": [
        {
          "name": "stdout",
          "output_type": "stream",
          "text": [
            "Address: kishanganj, Price: $15000000, Rooms: 100\n"
          ]
        }
      ],
      "source": [
        "# 18 Create a class House with attributes address and price. Create a derived class Mansion that adds an\n",
        "#attribute number_of_rooms.\n",
        "class House:\n",
        "    def __init__(self, address, price):\n",
        "        self.address = address\n",
        "        self.price = price\n",
        "\n",
        "class Mansion(House):\n",
        "    def __init__(self, address, price, number_of_rooms):\n",
        "        super().__init__(address, price)\n",
        "        self.number_of_rooms = number_of_rooms\n",
        "\n",
        "mansion = Mansion(\"kishanganj\", 15000000, 100)\n",
        "print(f\"Address: {mansion.address}, Price: ${mansion.price}, Rooms: {mansion.number_of_rooms}\")"
      ]
    }
  ],
  "metadata": {
    "colab": {
      "provenance": []
    },
    "kernelspec": {
      "display_name": "Python 3",
      "name": "python3"
    },
    "language_info": {
      "name": "python"
    }
  },
  "nbformat": 4,
  "nbformat_minor": 0
}
