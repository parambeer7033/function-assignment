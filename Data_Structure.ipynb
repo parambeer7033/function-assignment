{
  "nbformat": 4,
  "nbformat_minor": 0,
  "metadata": {
    "colab": {
      "provenance": []
    },
    "kernelspec": {
      "name": "python3",
      "display_name": "Python 3"
    },
    "language_info": {
      "name": "python"
    }
  },
  "cells": [
    {
      "cell_type": "code",
      "execution_count": null,
      "metadata": {
        "id": "qs7vuxPCxnSK"
      },
      "outputs": [],
      "source": []
    },
    {
      "cell_type": "markdown",
      "source": [
        "1. What are data structures, and why are they important.\n",
        "   - Data structures are organized ways to store, manage, and retrieve data efficiently. They are important because they enhance computational efficiency, support scalability, and are essential for implementing algorithms. Proper use of data structures improves memory management and ensures effective problem-solving. They are widely used in applications like databases, machine learning systems, and real-time software."
      ],
      "metadata": {
        "id": "2R58xPOmxzHg"
      }
    },
    {
      "cell_type": "markdown",
      "source": [
        "2. Explain the difference between mutable and immutable data types with examples.\n",
        "   - Mutable data types can be changed after creation, while immutable data types cannot. Examples of mutable types include lists, dictionaries, and sets, which allow modifications like adding or changing elements. Examples of immutable types include strings, tuples, and integers, where any change results in the creation of a new object. Mutable types are useful for frequent updates, while immutable types ensure data integrity and are thread-safe."
      ],
      "metadata": {
        "id": "_U4T_mPUB-cf"
      }
    },
    {
      "cell_type": "markdown",
      "source": [
        "3. What are the main differences between lists and tuples in Python.\n",
        "   - Lists in Python are mutable, meaning their elements can be modified, while tuples are immutable and cannot be changed after creation. Lists are defined using square brackets `[ ]`, whereas tuples are defined using parentheses `( )`. Lists are generally slower due to their mutability, while tuples are faster and more memory-efficient. Lists are suitable for data that changes frequently, while tuples are ideal for fixed, unchanging data."
      ],
      "metadata": {
        "id": "mc8ywVtQCXDv"
      }
    },
    {
      "cell_type": "markdown",
      "source": [
        "4.  Describe how dictionaries store data.\n",
        "   - Dictionaries in Python store data as key-value pairs, where each key is unique, and it maps to a specific value. They use a hash table internally, where the keys are hashed to determine their location in memory. This structure allows dictionaries to provide fast lookup, insertion, and deletion operations, typically in \\(O(1)\\) time."
      ],
      "metadata": {
        "id": "bGYAZbktC0sd"
      }
    },
    {
      "cell_type": "markdown",
      "source": [
        "5. Why might you use a set instead of a list in Python.\n",
        "   - You might use a set instead of a list in Python when you need to store unique elements, ensure no duplicates, and perform operations like union, intersection, or difference efficiently. Sets provide faster membership testing (\\(O(1)\\)) compared to lists (\\(O(n)\\)) and are ideal for scenarios where order is not important but uniqueness is required."
      ],
      "metadata": {
        "id": "9GYT-q7ZDLSI"
      }
    },
    {
      "cell_type": "markdown",
      "source": [
        "6. What is a string in Python, and how is it different from a list.\n",
        "   - A string in Python is a sequence of characters enclosed in quotes, used to represent text. It is immutable, meaning it cannot be modified after creation, whereas a list is a collection of items (which can include various data types) that is mutable and can be modified. Strings are designed specifically for textual data, while lists are general-purpose collections that can hold any type of data, including strings."
      ],
      "metadata": {
        "id": "sJ8vV6fTDnZD"
      }
    },
    {
      "cell_type": "markdown",
      "source": [
        "7. How do tuples ensure data integrity in Python.\n",
        "   - Tuples ensure data integrity in Python by being immutable, meaning their contents cannot be changed after creation. This immutability prevents accidental modifications, making tuples ideal for storing fixed, unchangeable data. Their hashability also allows them to be used as keys in dictionaries or elements in sets, further reinforcing data reliability."
      ],
      "metadata": {
        "id": "UsLfhy39NEtL"
      }
    },
    {
      "cell_type": "markdown",
      "source": [
        "8. What is a hash table, and how does it relate to dictionaries in Python.\n",
        "   - A hash table is a data structure that stores key-value pairs and uses a hash function to compute an index for each key, determining where the corresponding value is stored in memory. In Python, dictionaries are implemented using hash tables, enabling fast lookups, insertions, and deletions by mapping keys to their hash values. This structure ensures efficiency, with an average time complexity of \\(O(1)\\) for these operations."
      ],
      "metadata": {
        "id": "lCgiE0M0NaiN"
      }
    },
    {
      "cell_type": "markdown",
      "source": [
        "9. Can lists contain different data types in Python.\n",
        "   - Yes, lists in Python can contain different data types. A single list can hold elements such as integers, floats, strings, other lists, and even custom objects, making it a versatile data structure."
      ],
      "metadata": {
        "id": "YMnmQ1LrNywY"
      }
    },
    {
      "cell_type": "markdown",
      "source": [
        "10. Explain why strings are immutable in Python.\n",
        "   - Strings are immutable in Python to ensure data integrity, simplify memory management, and improve performance. Since strings cannot be modified after creation, they can be safely shared across multiple parts of a program without the risk of unintended changes. This immutability also allows strings to be hashable, making them suitable for use as dictionary keys or set elements."
      ],
      "metadata": {
        "id": "AmTarQmROCU8"
      }
    },
    {
      "cell_type": "markdown",
      "source": [
        "11. What advantages do dictionaries offer over lists for certain tasks.\n",
        "    - Dictionaries offer faster lookups compared to lists, as they provide \\(O(1)\\) time complexity for accessing elements by keys. They store data as key-value pairs, allowing more meaningful access compared to numeric indices in lists. Dictionaries ensure the uniqueness of keys, helping to organize data without duplicates. They are ideal for tasks that involve mapping or associating data, such as representing objects or configurations. Additionally, dictionaries support efficient updates, making them better suited for dynamic data management."
      ],
      "metadata": {
        "id": "ZwUMqLNxOWXy"
      }
    },
    {
      "cell_type": "markdown",
      "source": [
        "12.  Describe a scenario where using a tuple would be preferable over a list.\n",
        "     - A tuple is preferable over a list when you need to return multiple values from a function but want to ensure that these values remain unchanged. For example, a function that calculates and returns the dimensions of a rectangle (length and width) can return a tuple like `(10, 20)`, ensuring the dimensions remain immutable after being returned."
      ],
      "metadata": {
        "id": "x8X_WV3VPAEo"
      }
    },
    {
      "cell_type": "markdown",
      "source": [
        "13 How do sets handle duplicate values in Python.\n",
        "   - Sets in Python automatically eliminate duplicate values. When elements are added to a set, any duplicate values are ignored, ensuring that the set contains only unique elements. For example:  \n",
        "```python\n",
        "my_set = {1, 2, 2, 3}\n",
        "print(my_set)  # Output: {1, 2, 3}\n",
        "```  \n",
        "This behavior is achieved by the underlying hash table structure of sets, which ensures that each value is stored only once."
      ],
      "metadata": {
        "id": "M_-Soi_oPerj"
      }
    },
    {
      "cell_type": "markdown",
      "source": [
        "14.  How does the “in” keyword work differently for lists and dictionaries.\n",
        "    - In Python, the `in` keyword checks for the presence of an element in a list by iterating through the list and returning `True` if the element is found. In dictionaries, `in` checks for the presence of a key, not a value, by checking if the key exists in the dictionary's set of keys."
      ],
      "metadata": {
        "id": "xWLhVCRqP3J3"
      }
    },
    {
      "cell_type": "markdown",
      "source": [
        "15. Can you modify the elements of a tuple? Explain why or why not.\n",
        "    - No, you cannot modify the elements of a tuple in Python because tuples are immutable. Once a tuple is created, its elements cannot be changed, added, or removed. This immutability ensures that the data within the tuple remains constant throughout the program, providing data integrity and making tuples suitable for use as dictionary keys or for fixed collections of values."
      ],
      "metadata": {
        "id": "osh0b331QPZm"
      }
    },
    {
      "cell_type": "markdown",
      "source": [
        "16. What is a nested dictionary, and give an example of its use case.\n",
        "    - A nested dictionary is a dictionary where the values themselves are dictionaries, allowing for the storage of more complex data structures. This enables hierarchical data representation, where each dictionary can hold another dictionary as a value for a key.\n",
        "\n",
        "### Example Use Case:\n",
        "Consider a scenario where you want to store information about multiple students, including their name, age, and subjects they are enrolled in:\n",
        "\n",
        "```python\n",
        "students = {\n",
        "    \"student_1\": {\"name\": \"Alice\", \"age\": 20, \"subjects\": [\"Math\", \"Science\"]},\n",
        "    \"student_2\": {\"name\": \"Bob\", \"age\": 22, \"subjects\": [\"English\", \"History\"]},\n",
        "    \"student_3\": {\"name\": \"Charlie\", \"age\": 21, \"subjects\": [\"Math\", \"Literature\"]}\n",
        "}\n",
        "\n",
        "# Accessing Bob's age\n",
        "print(students[\"student_2\"][\"age\"])  # Output: 22\n",
        "```\n",
        "\n",
        "In this example, each student is represented by a dictionary, and the main dictionary holds these student dictionaries as values associated with keys like \"student_1\", \"student_2\", and so on."
      ],
      "metadata": {
        "id": "lKNCZhmWQkb6"
      }
    },
    {
      "cell_type": "markdown",
      "source": [
        "17. Describe the time complexity of accessing elements in a dictionary.\n",
        "   - The time complexity of accessing elements in a dictionary is \\(O(1)\\) on average. This means that the time it takes to retrieve a value associated with a key is constant, regardless of the size of the dictionary. This efficiency is due to the underlying hash table implementation, where the key is hashed to determine its position in memory. However, in rare cases, such as when there are hash collisions, the time complexity may degrade to \\(O(n)\\), but this is uncommon and typically handled efficiently by Python's hashing mechanism."
      ],
      "metadata": {
        "id": "WmkarNHYRA4B"
      }
    },
    {
      "cell_type": "markdown",
      "source": [
        "18.  In what situations are lists preferred over dictionaries.\n",
        "     - Lists are preferred over dictionaries when the order of elements matters, as lists maintain their sequence. They are also suitable when you need to access elements by their index rather than by a key. Lists are ideal for storing data with duplicates, as dictionaries require unique keys. Additionally, lists are simpler to use when you need a basic collection of items without the need for key-value pairs."
      ],
      "metadata": {
        "id": "T12mfqJbRN5D"
      }
    },
    {
      "cell_type": "markdown",
      "source": [
        "19. Why are dictionaries considered unordered, and how does that affect data retrieval.\n",
        "   - Dictionaries are considered unordered because, prior to Python 3.7, they did not guarantee any specific order for the elements. While dictionaries in Python 3.7 and later maintain the insertion order (i.e., they remember the order in which keys are added), they are still fundamentally designed to retrieve values based on keys using a hash function, not by their position in the dictionary.\n",
        "\n",
        "This unordered nature means that you cannot rely on the order of items when iterating over a dictionary, but it does not affect data retrieval speed. Data retrieval in dictionaries remains efficient, with \\(O(1)\\) average time complexity, as it relies on key lookups through the underlying hash table, not the position of the elements."
      ],
      "metadata": {
        "id": "cQ1TEUS4RiLA"
      }
    },
    {
      "cell_type": "markdown",
      "source": [
        "20. Explain the difference between a list and a dictionary in terms of data retrieval.\n",
        "   - In Python, a **list** is an ordered collection of items, and data is retrieved by specifying the index of the item in the list. For example, you use an integer index, like `my_list[2]`, to get the third item in the list.\n",
        "\n",
        "On the other hand, a **dictionary** is a collection of key-value pairs, where data is retrieved using a unique key rather than an index. For example, you use a key like `my_dict[\"age\"]` to access the value associated with the key `\"age\"`.\n",
        "\n",
        "So, while lists retrieve data based on its position in the sequence (using an index), dictionaries retrieve data based on a unique identifier or key."
      ],
      "metadata": {
        "id": "MpGAWDubRynY"
      }
    },
    {
      "cell_type": "code",
      "source": [
        "#1 Write a code to create a string with your name and print it.\n",
        "name=\"Musharraf reza\"\n",
        "print(name)"
      ],
      "metadata": {
        "colab": {
          "base_uri": "https://localhost:8080/"
        },
        "id": "PT5s7fCrxzrR",
        "outputId": "94ca9a58-a42f-4d62-ed17-df714b98b69b"
      },
      "execution_count": null,
      "outputs": [
        {
          "output_type": "stream",
          "name": "stdout",
          "text": [
            "Musharraf reza\n"
          ]
        }
      ]
    },
    {
      "cell_type": "code",
      "source": [
        "#2  Write a code to find the length of the string \"Hello World\".\n",
        "greet=\"Hello world\"\n",
        "len(greet)"
      ],
      "metadata": {
        "colab": {
          "base_uri": "https://localhost:8080/"
        },
        "id": "hod4DKNsyG0a",
        "outputId": "7cc5ed35-1dc7-45f6-a21b-8892483b0178"
      },
      "execution_count": null,
      "outputs": [
        {
          "output_type": "execute_result",
          "data": {
            "text/plain": [
              "11"
            ]
          },
          "metadata": {},
          "execution_count": 2
        }
      ]
    },
    {
      "cell_type": "code",
      "source": [
        "#3 Write a code to slice the first 3 characters from the string \"Python Programming\".\n",
        "course=\"Python Programming\"\n",
        "sliced_character=course[:3]\n",
        "print(sliced_character)"
      ],
      "metadata": {
        "colab": {
          "base_uri": "https://localhost:8080/"
        },
        "id": "QBLj-o0wyiDa",
        "outputId": "baf1f803-9f9e-483c-b172-ac0c70f0da94"
      },
      "execution_count": null,
      "outputs": [
        {
          "output_type": "stream",
          "name": "stdout",
          "text": [
            "Pyt\n"
          ]
        }
      ]
    },
    {
      "cell_type": "code",
      "source": [
        "#4  Write a code to convert the string \"hello\" to uppercase.\n",
        "string=\"hello\"\n",
        "upper_case=string.upper()\n",
        "print(upper_case)"
      ],
      "metadata": {
        "colab": {
          "base_uri": "https://localhost:8080/"
        },
        "id": "xm8aZClpzq_S",
        "outputId": "259da62d-664c-4665-a80f-5fbe2779e9f0"
      },
      "execution_count": null,
      "outputs": [
        {
          "output_type": "stream",
          "name": "stdout",
          "text": [
            "HELLO\n"
          ]
        }
      ]
    },
    {
      "cell_type": "code",
      "source": [
        "#5 Write a code to replace the word \"apple\" with \"orange\" in the string \"I like apple\".\n",
        "string=\"i like apple\"\n",
        "replace_word=string.replace(\"apple\",\"orange\")\n",
        "print(replace_word)"
      ],
      "metadata": {
        "colab": {
          "base_uri": "https://localhost:8080/"
        },
        "id": "LAEXlZyM0F_z",
        "outputId": "80d81943-cffe-411c-c8bd-6253c10454ba"
      },
      "execution_count": null,
      "outputs": [
        {
          "output_type": "stream",
          "name": "stdout",
          "text": [
            "i like orange\n"
          ]
        }
      ]
    },
    {
      "cell_type": "code",
      "source": [
        "#6 Write a code to create a list with numbers 1 to 5 and print it.\n",
        "number=[1,2,3,4,5]\n",
        "print(list)"
      ],
      "metadata": {
        "colab": {
          "base_uri": "https://localhost:8080/"
        },
        "id": "KFkzLGVf0-Gy",
        "outputId": "172e870b-21fa-4748-9e12-f2d0baa323fa"
      },
      "execution_count": null,
      "outputs": [
        {
          "output_type": "stream",
          "name": "stdout",
          "text": [
            "[1, 2, 3, 4, 5]\n"
          ]
        }
      ]
    },
    {
      "cell_type": "code",
      "source": [
        "#7 Write a code to append the number 10 to the list [1, 2, 3, 4].\n",
        "number=[1,2,3,4]\n",
        "number.append(10)\n",
        "print(number)"
      ],
      "metadata": {
        "colab": {
          "base_uri": "https://localhost:8080/"
        },
        "id": "LoQ1ctT-1wDJ",
        "outputId": "14517dbd-220d-4462-bf90-8a5c6c20d2fc"
      },
      "execution_count": null,
      "outputs": [
        {
          "output_type": "stream",
          "name": "stdout",
          "text": [
            "[1, 2, 3, 4, 10]\n"
          ]
        }
      ]
    },
    {
      "cell_type": "code",
      "source": [
        "#8  Write a code to remove the number 3 from the list [1, 2, 3, 4, 5].\n",
        "number=[1,2,3,4,5]\n",
        "number.remove(3)\n",
        "print(number)"
      ],
      "metadata": {
        "colab": {
          "base_uri": "https://localhost:8080/"
        },
        "id": "DRqUZVA15JWY",
        "outputId": "2063de6a-fdcf-40af-a804-8ff597aa895b"
      },
      "execution_count": null,
      "outputs": [
        {
          "output_type": "stream",
          "name": "stdout",
          "text": [
            "[1, 2, 4, 5]\n"
          ]
        }
      ]
    },
    {
      "cell_type": "code",
      "source": [
        "#9 Write a code to access the second element in the list ['a', 'b', 'c', 'd'].\n",
        "alphabet=['a','b','c','d','e']\n",
        "alphabet[1]\n",
        "print(alphabet[1])"
      ],
      "metadata": {
        "colab": {
          "base_uri": "https://localhost:8080/"
        },
        "id": "53myGdpn5opn",
        "outputId": "5dfaa8fe-cb10-43b6-fdea-debfeb2be5b5"
      },
      "execution_count": null,
      "outputs": [
        {
          "output_type": "stream",
          "name": "stdout",
          "text": [
            "b\n"
          ]
        }
      ]
    },
    {
      "cell_type": "code",
      "source": [
        "#10 Write a code to reverse the list [10, 20, 30, 40, 50].\n",
        "price=[10,20,30,40,50]\n",
        "reverse_list=price[::-1]\n",
        "print(reverse_list)"
      ],
      "metadata": {
        "colab": {
          "base_uri": "https://localhost:8080/"
        },
        "id": "fJ4_c2G56idH",
        "outputId": "b6b85eab-264c-4460-e9ea-5676d0c0ec90"
      },
      "execution_count": null,
      "outputs": [
        {
          "output_type": "stream",
          "name": "stdout",
          "text": [
            "[50, 40, 30, 20, 10]\n"
          ]
        }
      ]
    },
    {
      "cell_type": "code",
      "source": [
        "#11 Write a code to create a tuple with the elements 10, 20, 30 and print it.\n",
        "numbers=(10,20,30)\n",
        "print(numbers)"
      ],
      "metadata": {
        "colab": {
          "base_uri": "https://localhost:8080/"
        },
        "id": "11kAfU0w5oqK",
        "outputId": "05543364-9dd2-400e-b032-403a3ce81839"
      },
      "execution_count": null,
      "outputs": [
        {
          "output_type": "stream",
          "name": "stdout",
          "text": [
            "(10, 20, 30)\n"
          ]
        }
      ]
    },
    {
      "cell_type": "code",
      "source": [
        "#12 Write a code to access the first element of the tuple ('apple', 'banana', 'cherry').\n",
        "fruits=(\"apple\",\"banana\",\"cherry\")\n",
        "print(fruits[0])"
      ],
      "metadata": {
        "colab": {
          "base_uri": "https://localhost:8080/"
        },
        "id": "X9KJIbCm57Y-",
        "outputId": "e3a62fcb-ffc1-4581-ffb9-a51c30433c2b"
      },
      "execution_count": null,
      "outputs": [
        {
          "output_type": "stream",
          "name": "stdout",
          "text": [
            "apple\n"
          ]
        }
      ]
    },
    {
      "cell_type": "code",
      "source": [
        "#13  Write a code to count how many times the number 2 appears in the tuple (1, 2, 3, 2, 4, 2).\n",
        "numbers=(1,2,3,2,4,2)\n",
        "count=numbers.count(2)\n",
        "print(count)"
      ],
      "metadata": {
        "colab": {
          "base_uri": "https://localhost:8080/"
        },
        "id": "sFHc1ODD6gSj",
        "outputId": "7aa76b55-f6f7-4465-edce-9f6646d634e4"
      },
      "execution_count": null,
      "outputs": [
        {
          "output_type": "stream",
          "name": "stdout",
          "text": [
            "3\n"
          ]
        }
      ]
    },
    {
      "cell_type": "code",
      "source": [
        "#14 Write a code to find the index of the element \"cat\" in the tuple ('dog', 'cat', 'rabbit').\n",
        "animal=('dog','cat','rabbit')\n",
        "index=animal.index('cat')\n",
        "print(index)"
      ],
      "metadata": {
        "colab": {
          "base_uri": "https://localhost:8080/"
        },
        "id": "Rir1RILx6v97",
        "outputId": "9fc91dab-e8a3-41a2-f3e6-0fd35fd4a957"
      },
      "execution_count": null,
      "outputs": [
        {
          "output_type": "stream",
          "name": "stdout",
          "text": [
            "1\n"
          ]
        }
      ]
    },
    {
      "cell_type": "code",
      "source": [
        "#15  Write a code to check if the element \"banana\" is in the tuple ('apple', 'orange', 'banana').\n",
        "fruits=('apple','banana','orange')\n",
        "a='banana' in fruits\n",
        "print(a)\n"
      ],
      "metadata": {
        "id": "JzYm0hAv7UwO",
        "colab": {
          "base_uri": "https://localhost:8080/"
        },
        "outputId": "2964a0b6-e90a-473d-fe7f-94f766b3be0c"
      },
      "execution_count": null,
      "outputs": [
        {
          "output_type": "stream",
          "name": "stdout",
          "text": [
            "True\n"
          ]
        }
      ]
    },
    {
      "cell_type": "code",
      "source": [
        "#16 Write a code to create a set with the elements 1, 2, 3, 4, 5 and print it.\n",
        "my_set = {1, 2, 3, 4, 5}\n",
        "print(my_set)\n"
      ],
      "metadata": {
        "colab": {
          "base_uri": "https://localhost:8080/"
        },
        "id": "vMtEk8ooSTWu",
        "outputId": "694d8292-91b5-49da-c888-b3e891205def"
      },
      "execution_count": 8,
      "outputs": [
        {
          "output_type": "stream",
          "name": "stdout",
          "text": [
            "{1, 2, 3, 4, 5}\n"
          ]
        }
      ]
    },
    {
      "cell_type": "code",
      "source": [
        "#17. Write a code to add the element 6 to the set {1, 2, 3, 4}.\n",
        "my_set = {1, 2, 3, 4}\n",
        "my_set.add(6)\n",
        "print(my_set)\n"
      ],
      "metadata": {
        "id": "YqjppqMq-iFC",
        "colab": {
          "base_uri": "https://localhost:8080/"
        },
        "outputId": "21696273-8099-489d-9918-d3ffb50ff558"
      },
      "execution_count": 9,
      "outputs": [
        {
          "output_type": "stream",
          "name": "stdout",
          "text": [
            "{1, 2, 3, 4, 6}\n"
          ]
        }
      ]
    },
    {
      "cell_type": "code",
      "source": [
        "#18 Write a code to create a tuple with the elements 10, 20, 30 and print it.\n",
        "my_tuple = (10, 20, 30)\n",
        "print(my_tuple)"
      ],
      "metadata": {
        "colab": {
          "base_uri": "https://localhost:8080/"
        },
        "id": "Lq_giSfbS0Zp",
        "outputId": "1793743b-aff5-4577-cfd8-9e48aaeff01c"
      },
      "execution_count": 10,
      "outputs": [
        {
          "output_type": "stream",
          "name": "stdout",
          "text": [
            "(10, 20, 30)\n"
          ]
        }
      ]
    },
    {
      "cell_type": "code",
      "source": [
        "#19. Write a code to access the first element of the tuple ('apple', 'banana', 'cherry').\n",
        "my_tuple = ('apple', 'banana', 'cherry')\n",
        "print(my_tuple[0])"
      ],
      "metadata": {
        "colab": {
          "base_uri": "https://localhost:8080/"
        },
        "id": "OH_WNXL0S_yZ",
        "outputId": "49275e05-ea64-425c-fa33-845fecbae364"
      },
      "execution_count": 11,
      "outputs": [
        {
          "output_type": "stream",
          "name": "stdout",
          "text": [
            "apple\n"
          ]
        }
      ]
    },
    {
      "cell_type": "code",
      "source": [
        "#20.Write a code to count how many times the number 2 appears in the tuple (1, 2, 3, 2, 4, 2).\n",
        "numbers = (1, 2, 3, 2, 4, 2)\n",
        "count = numbers.count(2)\n",
        "print(count)"
      ],
      "metadata": {
        "colab": {
          "base_uri": "https://localhost:8080/"
        },
        "id": "lI9QA4s-TQSj",
        "outputId": "6fe51733-e16b-401b-ca8d-be0a88e9e269"
      },
      "execution_count": 12,
      "outputs": [
        {
          "output_type": "stream",
          "name": "stdout",
          "text": [
            "3\n"
          ]
        }
      ]
    },
    {
      "cell_type": "code",
      "source": [
        "#21 Write a code to find the index of the element \"cat\" in the tuple ('dog', 'cat', 'rabbit').\n",
        "animals=('dog','cat','rabbit')\n",
        "index=animals.index('cat')\n",
        "print(index)"
      ],
      "metadata": {
        "colab": {
          "base_uri": "https://localhost:8080/"
        },
        "id": "098cSGQjTh2S",
        "outputId": "fcde434f-6ce0-40a9-8621-d8a05588399d"
      },
      "execution_count": 13,
      "outputs": [
        {
          "output_type": "stream",
          "name": "stdout",
          "text": [
            "1\n"
          ]
        }
      ]
    },
    {
      "cell_type": "code",
      "source": [
        "#22. Write a code to check if the element \"banana\" is in the tuple ('apple', 'orange', 'banana').\n",
        "fruits=('apple','banana','orange')\n",
        "a='banana' in fruits\n",
        "print(a)"
      ],
      "metadata": {
        "colab": {
          "base_uri": "https://localhost:8080/"
        },
        "id": "y8yI0XAsT0v6",
        "outputId": "70e5bae5-045d-41bd-d379-753be6af2e94"
      },
      "execution_count": 14,
      "outputs": [
        {
          "output_type": "stream",
          "name": "stdout",
          "text": [
            "True\n"
          ]
        }
      ]
    },
    {
      "cell_type": "code",
      "source": [
        "#23. Write a code to create a set with the elements 1, 2, 3, 4, 5 and print it.\n",
        "my_set = {1, 2, 3, 4, 5}\n",
        "print(my_set)"
      ],
      "metadata": {
        "colab": {
          "base_uri": "https://localhost:8080/"
        },
        "id": "r_eM8B8CT-bN",
        "outputId": "f6c32e82-d1a2-486e-eff6-2cc8f2212a85"
      },
      "execution_count": 15,
      "outputs": [
        {
          "output_type": "stream",
          "name": "stdout",
          "text": [
            "{1, 2, 3, 4, 5}\n"
          ]
        }
      ]
    },
    {
      "cell_type": "code",
      "source": [
        "#24. Write a code to add the element 6 to the set {1, 2, 3, 4}.\n",
        "numbers={1,2,3,4}\n",
        "numbers.add(6)\n",
        "print(numbers)"
      ],
      "metadata": {
        "colab": {
          "base_uri": "https://localhost:8080/"
        },
        "id": "DXz4y9zzUHuG",
        "outputId": "ca25b7fb-62a5-42e6-bb81-eec2d70a0e26"
      },
      "execution_count": 16,
      "outputs": [
        {
          "output_type": "stream",
          "name": "stdout",
          "text": [
            "{1, 2, 3, 4, 6}\n"
          ]
        }
      ]
    }
  ]
}